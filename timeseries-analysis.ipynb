{
 "cells": [
  {
   "cell_type": "code",
   "execution_count": null,
   "metadata": {},
   "outputs": [],
   "source": [
    "import re\n",
    "\n",
    "# Adjust parsing to handle unexpected formatting\n",
    "data = {}\n",
    "\n",
    "with open(file_path, 'r') as f:\n",
    "    title = None\n",
    "    for line in f:\n",
    "        line = line.strip()\n",
    "        if line.startswith(\"client-\"):\n",
    "            title = line  # This line contains the title (client and metric)\n",
    "            data[title] = {'time_points': [], 'data_points': []}\n",
    "        elif line.startswith(\"time_points:\"):\n",
    "            # Extract time points with regex to handle unexpected characters\n",
    "            time_str = line.split(':')[1].strip()\n",
    "            data[title]['time_points'] = [float(t) for t in re.findall(r'[-+]?\\d*\\.\\d+|\\d+', time_str)]\n",
    "        elif line.startswith(\"data_points:\"):\n",
    "            # Extract data points with regex to handle unexpected characters\n",
    "            data_str = line.split(':')[1].strip()\n",
    "            data[title]['data_points'] = [float(d) for d in re.findall(r'[-+]?\\d*\\.\\d+|\\d+', data_str)]\n",
    "\n",
    "# Plot the first two datasets on the same graph as an example\n",
    "titles = list(data.keys())[:2]\n",
    "fig, ax = plt.subplots(figsize=(10, 6))\n",
    "for title in titles:\n",
    "    ax.plot(data[title]['time_points'], data[title]['data_points'], marker='o', label=title)\n",
    "\n",
    "ax.set_title('Combined Plot for Two Metrics')\n",
    "ax.set_xlabel('Time Points')\n",
    "ax.set_ylabel('Data Points')\n",
    "ax.legend()\n",
    "plt.show()"
   ]
  }
 ],
 "metadata": {
  "language_info": {
   "name": "python"
  }
 },
 "nbformat": 4,
 "nbformat_minor": 2
}
